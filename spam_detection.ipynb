{
 "cells": [
  {
   "cell_type": "code",
   "execution_count": 1,
   "id": "71f07b79",
   "metadata": {},
   "outputs": [],
   "source": [
    "#In your first run,run this command to download stopwards\n",
    "#nltk.download('stopwords')"
   ]
  },
  {
   "cell_type": "code",
   "execution_count": 140,
   "id": "2ceaa9cf",
   "metadata": {},
   "outputs": [],
   "source": [
    "#importing the libraries\n",
    "import numpy as np\n",
    "import pandas as pd\n",
    "import nltk\n",
    "from nltk.corpus import stopwords\n",
    "import string\n",
    "from sklearn.metrics import confusion_matrix,classification_report\n",
    "import seaborn as sn\n",
    "from sklearn.metrics import accuracy_score\n",
    "import matplotlib.pyplot as plt\n",
    "import re\n",
    "from sklearn import *\n"
   ]
  },
  {
   "cell_type": "code",
   "execution_count": 141,
   "id": "655cd9e4",
   "metadata": {},
   "outputs": [],
   "source": [
    "#loading the file to dataframe usinf pandas read_csv() function and finding the shape of dataframe \n",
    "df=pd.read_csv(\"Project_data.csv\")"
   ]
  },
  {
   "cell_type": "code",
   "execution_count": 142,
   "id": "bd1c0398",
   "metadata": {},
   "outputs": [],
   "source": [
    "#creating a new dataframe \n",
    "extract_data = pd.DataFrame(columns=['message','class'])\n",
    "\n",
    "#adding data to these columns\n",
    "extract_data['message']=df['message']\n",
    "extract_data['class']=df['class']\n"
   ]
  },
  {
   "cell_type": "code",
   "execution_count": 143,
   "id": "210d7096",
   "metadata": {},
   "outputs": [
    {
     "data": {
      "text/plain": [
       "valid    4825\n",
       "spam      747\n",
       "Name: class, dtype: int64"
      ]
     },
     "execution_count": 143,
     "metadata": {},
     "output_type": "execute_result"
    }
   ],
   "source": [
    "#checking the class count\n",
    "df['class'].value_counts()"
   ]
  },
  {
   "cell_type": "code",
   "execution_count": 144,
   "id": "09bddd8c",
   "metadata": {},
   "outputs": [],
   "source": [
    "#replacing categorical values with numbers \n",
    "extract_data[\"class\"].replace({\"valid\": 0, \"spam\": 1}, inplace=True)"
   ]
  },
  {
   "cell_type": "code",
   "execution_count": 145,
   "id": "13ac0a54",
   "metadata": {},
   "outputs": [],
   "source": [
    "def process_text(text):\n",
    "    #remove punctuations\n",
    "    text1=[char for char in text if char not in string.punctuation]\n",
    "    text1=''.join(text1)\n",
    "    \n",
    "    #lowercase all characters\n",
    "    text1=text1.lower()\n",
    "    \n",
    "    #remove hyperlinks\n",
    "    text1=re.sub(r'http\\S+',\"\",text1)\n",
    "    \n",
    "    #removing extra whitespaces\n",
    "    text1=re.sub(r'\\s+',\" \",text1)\n",
    "    \n",
    "    \n",
    "    #remove whitespaces on left and right\n",
    "    text1=text1.lstrip()\n",
    "    text1=text1.rstrip()\n",
    "    \n",
    "    #removing digits \n",
    "    text1=''.join([i for i in text1 if not i.isdigit()])\n",
    "    \n",
    "    #removing stopwards\n",
    "    clean_data =[word for word in text1.split() if word.lower() not in stopwords.words('english')]\n",
    "    \n",
    "    return clean_data\n",
    "    "
   ]
  },
  {
   "cell_type": "code",
   "execution_count": 146,
   "id": "a9646690",
   "metadata": {},
   "outputs": [],
   "source": [
    "# Text transformation ->  convert collection of text to matrix of tokens\n",
    "#TfidfVectorizer.fit_transform is used to create vocabulary from the training dataset\n",
    "from sklearn.feature_extraction.text import CountVectorizer,TfidfVectorizer\n",
    "cv = CountVectorizer(analyzer=process_text)\n",
    "tfidf = TfidfVectorizer(max_features=3000)\n",
    "messages = tfidf.fit_transform(extract_data['message']).toarray()\n"
   ]
  },
  {
   "cell_type": "code",
   "execution_count": 147,
   "id": "7301cfaa",
   "metadata": {},
   "outputs": [],
   "source": [
    "#split the data into training and testing dataset\n",
    "from sklearn.model_selection import train_test_split\n",
    "x_train, x_test ,y_train, y_test = train_test_split(messages,extract_data['class'],test_size =0.30, random_state=42)\n",
    "\n",
    "#appling Undersampling method\n",
    "from imblearn.under_sampling import RandomUnderSampler\n",
    "rus = RandomUnderSampler(sampling_strategy=1) # Numerical value\n",
    "x_train, y_train = rus.fit_resample(x_train, y_train)\n"
   ]
  },
  {
   "cell_type": "code",
   "execution_count": 148,
   "id": "8d56ccd5",
   "metadata": {},
   "outputs": [],
   "source": [
    "def get_confusion_matrix(prediction,modelname):\n",
    "    accuracy=round(accuracy_score(y_test,prediction),3)\n",
    "    print(\"Accuracy : \",accuracy)\n",
    "    cf_matrix=confusion_matrix(y_test, prediction)\n",
    "    ax = sn.heatmap(cf_matrix/np.sum(cf_matrix), annot=True, \n",
    "                fmt='.2%', cmap='Blues')\n",
    "    ax.set_title(modelname+' Confusion Matrix\\n\\n');\n",
    "    ax.set_xlabel('\\nPredicted Values')\n",
    "    ax.set_ylabel('Actual Values ');\n",
    "\n",
    "        ## Ticket labels - List must be in alphabetical order\n",
    "    ax.xaxis.set_ticklabels(['False','True'])\n",
    "    ax.yaxis.set_ticklabels(['False','True'])\n",
    "\n",
    "        ## Display the visualization of the Confusion Matrix.\n",
    "    plt.show()"
   ]
  },
  {
   "cell_type": "code",
   "execution_count": 149,
   "id": "1b16361d",
   "metadata": {},
   "outputs": [
    {
     "name": "stdout",
     "output_type": "stream",
     "text": [
      "Accuracy :  0.962\n"
     ]
    },
    {
     "data": {
      "image/png": "[encoded data removed]",
      "text/plain": [
       "<Figure size 432x288 with 2 Axes>"
      ]
     },
     "metadata": {
      "needs_background": "light"
     },
     "output_type": "display_data"
    },
    {
     "name": "stdout",
     "output_type": "stream",
     "text": [
      "              precision    recall  f1-score   support\n",
      "\n",
      "           0       0.99      0.97      0.98      1453\n",
      "           1       0.81      0.94      0.87       219\n",
      "\n",
      "    accuracy                           0.96      1672\n",
      "   macro avg       0.90      0.95      0.92      1672\n",
      "weighted avg       0.97      0.96      0.96      1672\n",
      "\n"
     ]
    }
   ],
   "source": [
    "#create and train Naive bayes classification\n",
    "from sklearn.metrics import classification_report\n",
    "from sklearn.naive_bayes import MultinomialNB\n",
    "classifier=MultinomialNB().fit(x_train,y_train)\n",
    "predictions=classifier.predict(x_test)\n",
    "get_confusion_matrix(predictions,\"Naive Bayes\")\n",
    "print(classification_report(y_test,predictions, labels=[0,1]))"
   ]
  },
  {
   "cell_type": "code",
   "execution_count": 120,
   "id": "ae638d70",
   "metadata": {},
   "outputs": [
    {
     "name": "stdout",
     "output_type": "stream",
     "text": [
      "Accuracy :  0.976\n"
     ]
    },
    {
     "data": {
      "image/png": "[encoded data removed]",
      "text/plain": [
       "<Figure size 432x288 with 2 Axes>"
      ]
     },
     "metadata": {
      "needs_background": "light"
     },
     "output_type": "display_data"
    },
    {
     "name": "stdout",
     "output_type": "stream",
     "text": [
      "              precision    recall  f1-score   support\n",
      "\n",
      "           0       0.99      0.99      0.99      1453\n",
      "           1       0.91      0.90      0.91       219\n",
      "\n",
      "    accuracy                           0.98      1672\n",
      "   macro avg       0.95      0.95      0.95      1672\n",
      "weighted avg       0.98      0.98      0.98      1672\n",
      "\n"
     ]
    }
   ],
   "source": [
    "#create and train Naive bayes classification\n",
    "from sklearn.metrics import classification_report\n",
    "from sklearn.naive_bayes import MultinomialNB\n",
    "classifier=MultinomialNB().fit(x_train,y_train)\n",
    "predictions=classifier.predict(x_test)\n",
    "get_confusion_matrix(predictions,\"Naive Bayes\")\n",
    "print(classification_report(y_test,predictions, labels=[0,1]))"
   ]
  },
  {
   "cell_type": "code",
   "execution_count": 151,
   "id": "e83e2582",
   "metadata": {},
   "outputs": [
    {
     "name": "stdout",
     "output_type": "stream",
     "text": [
      "Accuracy :  0.96\n"
     ]
    },
    {
     "data": {
      "image/png": "[encoded data removed]",
      "text/plain": [
       "<Figure size 432x288 with 2 Axes>"
      ]
     },
     "metadata": {
      "needs_background": "light"
     },
     "output_type": "display_data"
    },
    {
     "name": "stdout",
     "output_type": "stream",
     "text": [
      "              precision    recall  f1-score   support\n",
      "\n",
      "           0       0.98      0.97      0.98      1453\n",
      "           1       0.82      0.88      0.85       219\n",
      "\n",
      "    accuracy                           0.96      1672\n",
      "   macro avg       0.90      0.93      0.91      1672\n",
      "weighted avg       0.96      0.96      0.96      1672\n",
      "\n"
     ]
    }
   ],
   "source": [
    "from sklearn.neighbors import KNeighborsClassifier\n",
    "model = KNeighborsClassifier(n_neighbors=5)\n",
    "model.fit(x_train,y_train)\n",
    "prediction=model.predict(x_test)\n",
    "get_confusion_matrix(prediction,\"KNN\")\n",
    "print(classification_report(y_test,prediction, labels=[0,1]))"
   ]
  },
  {
   "cell_type": "code",
   "execution_count": 152,
   "id": "f7c84704",
   "metadata": {},
   "outputs": [],
   "source": [
    "#this list will append the text, and prediction of each model\n",
    "pred=[]\n",
    "\n",
    "#this function will be used to predict real world scenario messages class\n",
    "def predict_class(text):\n",
    "    #process the text before using it\n",
    "    transform_message=process_text(text)\n",
    "    #list will return by calling process_text function so joining all strings in list\n",
    "    text1=' '.join(char for char in transform_message)\n",
    "    \n",
    "    #converting the text to numeric vector to be used for predict function else will generated error\n",
    "    v_input=tfidf.transform(transform_message)\n",
    "\n",
    "    #first index of predict function will be class value so retrieving first index\n",
    "    #predicting value using Naive Bayes\n",
    "    Nb=classifier.predict(v_input)[0]\n",
    "    \n",
    "    #decoding values\n",
    "    if Nb==0:\n",
    "        Nb='valid'\n",
    "    else:\n",
    "        Nb='spam'\n",
    "        \n",
    "    #using KNN classifier to predict class\n",
    "    knn=model.predict(v_input)[0]\n",
    "    if knn==0:\n",
    "        knn='valid'\n",
    "    else:\n",
    "        knn='spam'\n",
    "        \n",
    "    #appending text,Naive bayes prediction, knn_prediction in pred list\n",
    "    pred.append([text,Nb,knn])\n",
    "\n",
    "    "
   ]
  },
  {
   "cell_type": "code",
   "execution_count": 153,
   "id": "3ebd2825",
   "metadata": {},
   "outputs": [],
   "source": [
    "#now we will make new predictions on trained models\n",
    "messages_list=[]\n",
    "new_message=\"Go until jurong point, crazy.. Available only\"\n",
    "new_message1='Congratulations, you have won $1000 dollar gift card. go to http:bithshhd.com to claim now'\n",
    "new_message2='Your IRS tax refund is pending acceptance. Must accept within 24 hours http:bit.ly/sdf'\n",
    "message3='It is to inform you that we will have meeting tomorrow'\n",
    "message4='Amazon is sending you $1562. please reply with you banking account and routing number to recieve your funds'\n",
    "message5='Global crypto market capitalization rose 6.4% over the past week to $1.99 trillion, according to data from CoinMarketC Bitcoin ended the week 5.1% higher at $44,348.Ethereum, the second-largest cryptocurrency by market cap, topped $3,000 for the first time since Mar. 2, taking its market cap above that of traditional financial institutions like Mastercard and Bank of America.Waves broke into the top 50 coins by market cap after a 240% monthly gain, CoinDesk reported.'\n",
    "message6='your account is temprory locked please login here http:bitlog.com'\n",
    "messages_list=[new_message,new_message1,new_message2,message3,message4,message5]"
   ]
  },
  {
   "cell_type": "code",
   "execution_count": 154,
   "id": "b9b72d38",
   "metadata": {},
   "outputs": [],
   "source": [
    "for i in range(0,len(messages_list)):\n",
    "    predict_class(messages_list[i])\n"
   ]
  },
  {
   "cell_type": "code",
   "execution_count": 157,
   "id": "bf0f0fe3",
   "metadata": {},
   "outputs": [
    {
     "name": "stdout",
     "output_type": "stream",
     "text": [
      "                                                text Naive Bayes    KNN\n",
      "0      Go until jurong point, crazy.. Available only       valid  valid\n",
      "1  Congratulations, you have won $1000 dollar gif...        spam   spam\n",
      "2  Your IRS tax refund is pending acceptance. Mus...       valid  valid\n",
      "3  It is to inform you that we will have meeting ...       valid  valid\n",
      "4  Amazon is sending you $1562. please reply with...       valid  valid\n",
      "5  Global crypto market capitalization rose 6.4% ...       valid  valid\n"
     ]
    }
   ],
   "source": [
    "d=[]\n",
    "for i in range(0,len(pred)):\n",
    "    d.append([pred[i][0],pred[i][1],pred[i][2]])\n",
    "DF = pd.DataFrame(d, columns = ['text','Naive Bayes','KNN'])\n",
    "print(DF)"
   ]
  },
  {
   "cell_type": "code",
   "execution_count": null,
   "id": "ab3d667b",
   "metadata": {},
   "outputs": [],
   "source": []
  },
  {
   "cell_type": "code",
   "execution_count": null,
   "id": "223ab082",
   "metadata": {},
   "outputs": [],
   "source": []
  }
 ],
 "metadata": {
  "kernelspec": {
   "display_name": "Python 3 (ipykernel)",
   "language": "python",
   "name": "python3"
  },
  "language_info": {
   "codemirror_mode": {
    "name": "ipython",
    "version": 3
   },
   "file_extension": ".py",
   "mimetype": "text/x-python",
   "name": "python",
   "nbconvert_exporter": "python",
   "pygments_lexer": "ipython3",
   "version": "3.9.13"
  }
 },
 "nbformat": 4,
 "nbformat_minor": 5
}
